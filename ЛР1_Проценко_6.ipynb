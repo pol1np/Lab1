{
  "cells": [
    {
      "cell_type": "markdown",
      "metadata": {
        "id": "bri_pAriNFqN"
      },
      "source": [
        "**Цель работы:**\n",
        "\n",
        "Осуществить предварительную обработку данных csv-файла, выявить и устранить проблемы в этих данных."
      ]
    },
    {
      "cell_type": "markdown",
      "metadata": {
        "id": "r_e-GeJmgZ8l"
      },
      "source": [
        "# Загрузка набора данных"
      ]
    },
    {
      "cell_type": "markdown",
      "metadata": {
        "id": "eeq9ZAbSguQS"
      },
      "source": [
        "### Описание предметной области"
      ]
    },
    {
      "cell_type": "markdown",
      "metadata": {
        "id": "XHbH8zNIg0Ib"
      },
      "source": [
        "Вариант №6\n",
        "\n",
        "Набор данных: visits.csv\n",
        "\n",
        "Атрибуты: DataFrame\n"
      ]
    },
    {
      "cell_type": "markdown",
      "metadata": {
        "id": "Lwin9ia7hT1i"
      },
      "source": [
        "### 1.Чтение файла (набора данных)"
      ]
    },
    {
      "cell_type": "code",
      "execution_count": 3,
      "metadata": {
        "id": "a5dYQO5YhOYa"
      },
      "outputs": [],
      "source": [
        "import pandas as pd\n",
        "df = pd.read_csv('visits.csv', sep = ';')"
      ]
    },
    {
      "cell_type": "markdown",
      "metadata": {},
      "source": [
        "С помощью библиотеки pandas загружен датасет visits.csv"
      ]
    },
    {
      "cell_type": "markdown",
      "metadata": {
        "id": "p82p53SvhjLN"
      },
      "source": [
        "### 2. Обзор данных"
      ]
    },
    {
      "cell_type": "markdown",
      "metadata": {
        "id": "eAYzXaLrh-qh"
      },
      "source": [
        "2.1 Вывод первых 20 строк с помощью метода head."
      ]
    },
    {
      "cell_type": "code",
      "execution_count": 4,
      "metadata": {
        "id": "7yMo3VZ_hotx"
      },
      "outputs": [
        {
          "data": {
            "text/html": [
              "<div>\n",
              "<style scoped>\n",
              "    .dataframe tbody tr th:only-of-type {\n",
              "        vertical-align: middle;\n",
              "    }\n",
              "\n",
              "    .dataframe tbody tr th {\n",
              "        vertical-align: top;\n",
              "    }\n",
              "\n",
              "    .dataframe thead th {\n",
              "        text-align: right;\n",
              "    }\n",
              "</style>\n",
              "<table border=\"1\" class=\"dataframe\">\n",
              "  <thead>\n",
              "    <tr style=\"text-align: right;\">\n",
              "      <th></th>\n",
              "      <th>User_Id</th>\n",
              "      <th>Region</th>\n",
              "      <th>Device</th>\n",
              "      <th>Channel</th>\n",
              "      <th>Session_Start</th>\n",
              "      <th>SESSION_End</th>\n",
              "    </tr>\n",
              "  </thead>\n",
              "  <tbody>\n",
              "    <tr>\n",
              "      <th>0</th>\n",
              "      <td>9,81449E+11</td>\n",
              "      <td>United States</td>\n",
              "      <td>iPhone</td>\n",
              "      <td>organic</td>\n",
              "      <td>01.05.2019 2:36</td>\n",
              "      <td>01.05.2019 2:45</td>\n",
              "    </tr>\n",
              "    <tr>\n",
              "      <th>1</th>\n",
              "      <td>2,78966E+11</td>\n",
              "      <td>United States</td>\n",
              "      <td>iPhone</td>\n",
              "      <td>organic</td>\n",
              "      <td>01.05.2019 4:46</td>\n",
              "      <td>01.05.2019 4:47</td>\n",
              "    </tr>\n",
              "    <tr>\n",
              "      <th>2</th>\n",
              "      <td>5,90706E+11</td>\n",
              "      <td>United States</td>\n",
              "      <td>Mac</td>\n",
              "      <td>organic</td>\n",
              "      <td>01.05.2019 14:09</td>\n",
              "      <td>01.05.2019 15:32</td>\n",
              "    </tr>\n",
              "    <tr>\n",
              "      <th>3</th>\n",
              "      <td>3,26434E+11</td>\n",
              "      <td>United States</td>\n",
              "      <td>Android</td>\n",
              "      <td>TipTop</td>\n",
              "      <td>01.05.2019 0:29</td>\n",
              "      <td>01.05.2019 0:54</td>\n",
              "    </tr>\n",
              "    <tr>\n",
              "      <th>4</th>\n",
              "      <td>3,49774E+11</td>\n",
              "      <td>United States</td>\n",
              "      <td>Mac</td>\n",
              "      <td>organic</td>\n",
              "      <td>01.05.2019 3:33</td>\n",
              "      <td>01.05.2019 3:57</td>\n",
              "    </tr>\n",
              "    <tr>\n",
              "      <th>5</th>\n",
              "      <td>43958116050</td>\n",
              "      <td>United States</td>\n",
              "      <td>Android</td>\n",
              "      <td>organic</td>\n",
              "      <td>01.05.2019 9:03</td>\n",
              "      <td>01.05.2019 10:08</td>\n",
              "    </tr>\n",
              "    <tr>\n",
              "      <th>6</th>\n",
              "      <td>1,85365E+11</td>\n",
              "      <td>United States</td>\n",
              "      <td>iPhone</td>\n",
              "      <td>organic</td>\n",
              "      <td>01.05.2019 9:37</td>\n",
              "      <td>01.05.2019 10:00</td>\n",
              "    </tr>\n",
              "    <tr>\n",
              "      <th>7</th>\n",
              "      <td>1,00971E+11</td>\n",
              "      <td>United States</td>\n",
              "      <td>Mac</td>\n",
              "      <td>TipTop</td>\n",
              "      <td>01.05.2019 4:39</td>\n",
              "      <td>01.05.2019 4:57</td>\n",
              "    </tr>\n",
              "    <tr>\n",
              "      <th>8</th>\n",
              "      <td>3,70456E+11</td>\n",
              "      <td>United States</td>\n",
              "      <td>iPhone</td>\n",
              "      <td>organic</td>\n",
              "      <td>01.05.2019 14:44</td>\n",
              "      <td>01.05.2019 15:41</td>\n",
              "    </tr>\n",
              "    <tr>\n",
              "      <th>9</th>\n",
              "      <td>1,41838E+11</td>\n",
              "      <td>United States</td>\n",
              "      <td>Mac</td>\n",
              "      <td>FaceBoom</td>\n",
              "      <td>01.05.2019 6:20</td>\n",
              "      <td>01.05.2019 6:54</td>\n",
              "    </tr>\n",
              "    <tr>\n",
              "      <th>10</th>\n",
              "      <td>9,24309E+11</td>\n",
              "      <td>United States</td>\n",
              "      <td>iPhone</td>\n",
              "      <td>organic</td>\n",
              "      <td>01.05.2019 20:03</td>\n",
              "      <td>01.05.2019 20:19</td>\n",
              "    </tr>\n",
              "    <tr>\n",
              "      <th>11</th>\n",
              "      <td>7,74938E+11</td>\n",
              "      <td>United States</td>\n",
              "      <td>iPhone</td>\n",
              "      <td>MediaTornado</td>\n",
              "      <td>01.05.2019 14:01</td>\n",
              "      <td>01.05.2019 14:29</td>\n",
              "    </tr>\n",
              "    <tr>\n",
              "      <th>12</th>\n",
              "      <td>2,44879E+11</td>\n",
              "      <td>United States</td>\n",
              "      <td>iPhone</td>\n",
              "      <td>MediaTornado</td>\n",
              "      <td>01.05.2019 1:59</td>\n",
              "      <td>01.05.2019 2:21</td>\n",
              "    </tr>\n",
              "    <tr>\n",
              "      <th>13</th>\n",
              "      <td>1,57877E+11</td>\n",
              "      <td>United States</td>\n",
              "      <td>Mac</td>\n",
              "      <td>organic</td>\n",
              "      <td>01.05.2019 10:25</td>\n",
              "      <td>01.05.2019 10:35</td>\n",
              "    </tr>\n",
              "    <tr>\n",
              "      <th>14</th>\n",
              "      <td>5,24629E+11</td>\n",
              "      <td>United States</td>\n",
              "      <td>Mac</td>\n",
              "      <td>organic</td>\n",
              "      <td>01.05.2019 17:06</td>\n",
              "      <td>01.05.2019 18:05</td>\n",
              "    </tr>\n",
              "    <tr>\n",
              "      <th>15</th>\n",
              "      <td>1,36227E+11</td>\n",
              "      <td>United States</td>\n",
              "      <td>PC</td>\n",
              "      <td>organic</td>\n",
              "      <td>01.05.2019 19:34</td>\n",
              "      <td>01.05.2019 19:39</td>\n",
              "    </tr>\n",
              "    <tr>\n",
              "      <th>16</th>\n",
              "      <td>6,84979E+11</td>\n",
              "      <td>United States</td>\n",
              "      <td>iPhone</td>\n",
              "      <td>TipTop</td>\n",
              "      <td>01.05.2019 1:51</td>\n",
              "      <td>01.05.2019 2:12</td>\n",
              "    </tr>\n",
              "    <tr>\n",
              "      <th>17</th>\n",
              "      <td>9,05776E+11</td>\n",
              "      <td>United States</td>\n",
              "      <td>iPhone</td>\n",
              "      <td>organic</td>\n",
              "      <td>01.05.2019 14:26</td>\n",
              "      <td>01.05.2019 14:35</td>\n",
              "    </tr>\n",
              "    <tr>\n",
              "      <th>18</th>\n",
              "      <td>15174034813</td>\n",
              "      <td>United States</td>\n",
              "      <td>iPhone</td>\n",
              "      <td>FaceBoom</td>\n",
              "      <td>01.05.2019 15:34</td>\n",
              "      <td>01.05.2019 15:56</td>\n",
              "    </tr>\n",
              "    <tr>\n",
              "      <th>19</th>\n",
              "      <td>1,88246E+11</td>\n",
              "      <td>United States</td>\n",
              "      <td>Android</td>\n",
              "      <td>FaceBoom</td>\n",
              "      <td>01.05.2019 23:09</td>\n",
              "      <td>01.05.2019 23:21</td>\n",
              "    </tr>\n",
              "  </tbody>\n",
              "</table>\n",
              "</div>"
            ],
            "text/plain": [
              "        User_Id         Region   Device       Channel     Session_Start  \\\n",
              "0   9,81449E+11  United States   iPhone       organic   01.05.2019 2:36   \n",
              "1   2,78966E+11  United States   iPhone       organic   01.05.2019 4:46   \n",
              "2   5,90706E+11  United States      Mac       organic  01.05.2019 14:09   \n",
              "3   3,26434E+11  United States  Android        TipTop   01.05.2019 0:29   \n",
              "4   3,49774E+11  United States      Mac       organic   01.05.2019 3:33   \n",
              "5   43958116050  United States  Android       organic   01.05.2019 9:03   \n",
              "6   1,85365E+11  United States   iPhone       organic   01.05.2019 9:37   \n",
              "7   1,00971E+11  United States      Mac        TipTop   01.05.2019 4:39   \n",
              "8   3,70456E+11  United States   iPhone       organic  01.05.2019 14:44   \n",
              "9   1,41838E+11  United States      Mac      FaceBoom   01.05.2019 6:20   \n",
              "10  9,24309E+11  United States   iPhone       organic  01.05.2019 20:03   \n",
              "11  7,74938E+11  United States   iPhone  MediaTornado  01.05.2019 14:01   \n",
              "12  2,44879E+11  United States   iPhone  MediaTornado   01.05.2019 1:59   \n",
              "13  1,57877E+11  United States      Mac       organic  01.05.2019 10:25   \n",
              "14  5,24629E+11  United States      Mac       organic  01.05.2019 17:06   \n",
              "15  1,36227E+11  United States       PC       organic  01.05.2019 19:34   \n",
              "16  6,84979E+11  United States   iPhone        TipTop   01.05.2019 1:51   \n",
              "17  9,05776E+11  United States   iPhone       organic  01.05.2019 14:26   \n",
              "18  15174034813  United States   iPhone      FaceBoom  01.05.2019 15:34   \n",
              "19  1,88246E+11  United States  Android      FaceBoom  01.05.2019 23:09   \n",
              "\n",
              "         SESSION_End  \n",
              "0    01.05.2019 2:45  \n",
              "1    01.05.2019 4:47  \n",
              "2   01.05.2019 15:32  \n",
              "3    01.05.2019 0:54  \n",
              "4    01.05.2019 3:57  \n",
              "5   01.05.2019 10:08  \n",
              "6   01.05.2019 10:00  \n",
              "7    01.05.2019 4:57  \n",
              "8   01.05.2019 15:41  \n",
              "9    01.05.2019 6:54  \n",
              "10  01.05.2019 20:19  \n",
              "11  01.05.2019 14:29  \n",
              "12   01.05.2019 2:21  \n",
              "13  01.05.2019 10:35  \n",
              "14  01.05.2019 18:05  \n",
              "15  01.05.2019 19:39  \n",
              "16   01.05.2019 2:12  \n",
              "17  01.05.2019 14:35  \n",
              "18  01.05.2019 15:56  \n",
              "19  01.05.2019 23:21  "
            ]
          },
          "execution_count": 4,
          "metadata": {},
          "output_type": "execute_result"
        }
      ],
      "source": [
        "df.head(20)"
      ]
    },
    {
      "cell_type": "markdown",
      "metadata": {},
      "source": [
        "Таблица содержит данные: \n",
        "\n",
        "User_ID - Индефикатор пользователя\n",
        "\n",
        "Region - Регион пользователя\n",
        "\n",
        "Device - Устройство, с которого был выполнен вход\n",
        "\n",
        "Channel - Рекламный источник \n",
        "\n",
        "Session_Start - Дата и день входа\n",
        "\n",
        "Session_End - Дата и день выхода"
      ]
    },
    {
      "cell_type": "markdown",
      "metadata": {
        "id": "Ze-lXxLMhpWv"
      },
      "source": [
        "2.2 Оценка данных с помощью метода info."
      ]
    },
    {
      "cell_type": "code",
      "execution_count": 5,
      "metadata": {
        "id": "bjhngmaLiGM-"
      },
      "outputs": [
        {
          "name": "stdout",
          "output_type": "stream",
          "text": [
            "<class 'pandas.core.frame.DataFrame'>\n",
            "RangeIndex: 957 entries, 0 to 956\n",
            "Data columns (total 6 columns):\n",
            " #   Column         Non-Null Count  Dtype \n",
            "---  ------         --------------  ----- \n",
            " 0   User_Id        957 non-null    object\n",
            " 1   Region         956 non-null    object\n",
            " 2   Device         955 non-null    object\n",
            " 3   Channel        957 non-null    object\n",
            " 4   Session_Start  955 non-null    object\n",
            " 5   SESSION_End    955 non-null    object\n",
            "dtypes: object(6)\n",
            "memory usage: 45.0+ KB\n"
          ]
        }
      ],
      "source": [
        "df.info()"
      ]
    },
    {
      "cell_type": "markdown",
      "metadata": {},
      "source": [
        "Всего 957 записей и 6 колонок, некоторые записи с пропусками, а также распростанен тип object"
      ]
    },
    {
      "cell_type": "markdown",
      "metadata": {
        "id": "06PDq9DAiMAY"
      },
      "source": [
        "2.3 Оценка данных с помощью метода describe."
      ]
    },
    {
      "cell_type": "markdown",
      "metadata": {},
      "source": [
        "Для оценки числовых столбцов использовался метод describe"
      ]
    },
    {
      "cell_type": "code",
      "execution_count": 6,
      "metadata": {
        "id": "cTVFwzO1jQfN"
      },
      "outputs": [
        {
          "data": {
            "text/html": [
              "<div>\n",
              "<style scoped>\n",
              "    .dataframe tbody tr th:only-of-type {\n",
              "        vertical-align: middle;\n",
              "    }\n",
              "\n",
              "    .dataframe tbody tr th {\n",
              "        vertical-align: top;\n",
              "    }\n",
              "\n",
              "    .dataframe thead th {\n",
              "        text-align: right;\n",
              "    }\n",
              "</style>\n",
              "<table border=\"1\" class=\"dataframe\">\n",
              "  <thead>\n",
              "    <tr style=\"text-align: right;\">\n",
              "      <th></th>\n",
              "      <th>User_Id</th>\n",
              "      <th>Region</th>\n",
              "      <th>Device</th>\n",
              "      <th>Channel</th>\n",
              "      <th>Session_Start</th>\n",
              "      <th>SESSION_End</th>\n",
              "    </tr>\n",
              "  </thead>\n",
              "  <tbody>\n",
              "    <tr>\n",
              "      <th>count</th>\n",
              "      <td>957</td>\n",
              "      <td>956</td>\n",
              "      <td>955</td>\n",
              "      <td>957</td>\n",
              "      <td>955</td>\n",
              "      <td>955</td>\n",
              "    </tr>\n",
              "    <tr>\n",
              "      <th>unique</th>\n",
              "      <td>865</td>\n",
              "      <td>2</td>\n",
              "      <td>6</td>\n",
              "      <td>4</td>\n",
              "      <td>820</td>\n",
              "      <td>836</td>\n",
              "    </tr>\n",
              "    <tr>\n",
              "      <th>top</th>\n",
              "      <td>1,79085E+11</td>\n",
              "      <td>United States</td>\n",
              "      <td>iPhone</td>\n",
              "      <td>organic</td>\n",
              "      <td>02.05.2019 20:16</td>\n",
              "      <td>02.05.2019 22:48</td>\n",
              "    </tr>\n",
              "    <tr>\n",
              "      <th>freq</th>\n",
              "      <td>4</td>\n",
              "      <td>955</td>\n",
              "      <td>421</td>\n",
              "      <td>612</td>\n",
              "      <td>4</td>\n",
              "      <td>3</td>\n",
              "    </tr>\n",
              "  </tbody>\n",
              "</table>\n",
              "</div>"
            ],
            "text/plain": [
              "            User_Id         Region  Device  Channel     Session_Start  \\\n",
              "count           957            956     955      957               955   \n",
              "unique          865              2       6        4               820   \n",
              "top     1,79085E+11  United States  iPhone  organic  02.05.2019 20:16   \n",
              "freq              4            955     421      612                 4   \n",
              "\n",
              "             SESSION_End  \n",
              "count                955  \n",
              "unique               836  \n",
              "top     02.05.2019 22:48  \n",
              "freq                   3  "
            ]
          },
          "execution_count": 6,
          "metadata": {},
          "output_type": "execute_result"
        }
      ],
      "source": [
        "df.describe()"
      ]
    },
    {
      "cell_type": "markdown",
      "metadata": {},
      "source": [
        "Из полученных данных можно сделать следующие выводы: доминирующий рынок США, самое популярное устройство – Iphone, канал Organic – основной источник трафика"
      ]
    },
    {
      "cell_type": "markdown",
      "metadata": {
        "id": "JTbo0IGDiHxn"
      },
      "source": [
        " 2.4 Оценка названий столбцов"
      ]
    },
    {
      "cell_type": "code",
      "execution_count": 7,
      "metadata": {
        "id": "9NEyi2Odik3e"
      },
      "outputs": [
        {
          "data": {
            "text/plain": [
              "Index(['User_Id', 'Region', 'Device', 'Channel', 'Session_Start',\n",
              "       'SESSION_End'],\n",
              "      dtype='object')"
            ]
          },
          "execution_count": 7,
          "metadata": {},
          "output_type": "execute_result"
        }
      ],
      "source": [
        "df.columns\n"
      ]
    },
    {
      "cell_type": "markdown",
      "metadata": {},
      "source": [
        "Для проверки правильности написания столбцов использовался метод columns, который выводит названия столбцов. Из полученных названий видно, что нужно поменять название столбцу отвечающий за последнюю сессию. Для этого используется метод rename, который принимает один параметр columns"
      ]
    },
    {
      "cell_type": "code",
      "execution_count": 8,
      "metadata": {
        "id": "QSJBLl4qjjP8"
      },
      "outputs": [],
      "source": [
        "df = df.rename(columns= {\"SESSION_End\" : \"Session_End\"})"
      ]
    },
    {
      "cell_type": "markdown",
      "metadata": {
        "id": "V0tLQcyrjnA_"
      },
      "source": [
        "### 3. Проверка пропусков"
      ]
    },
    {
      "cell_type": "markdown",
      "metadata": {},
      "source": [
        "Далее используется метод isna(), который используется для нахождения пропусков, и функция sum для подсчета пропусков"
      ]
    },
    {
      "cell_type": "code",
      "execution_count": 9,
      "metadata": {
        "id": "xuTz-Avjj9AW"
      },
      "outputs": [
        {
          "name": "stdout",
          "output_type": "stream",
          "text": [
            "User_Id          0\n",
            "Region           1\n",
            "Device           2\n",
            "Channel          0\n",
            "Session_Start    2\n",
            "Session_End      2\n",
            "dtype: int64\n"
          ]
        }
      ],
      "source": [
        "print(df.isna().sum())\n"
      ]
    },
    {
      "cell_type": "markdown",
      "metadata": {},
      "source": [
        "По полученным данным видно, что в столбцах Region, Device, Session_Start, Session_End максимальное количество пропусков, поэтому можно удалить строки с пустым значением в этих столбцах. Для их удаления применяется метод dropna c параметром subset, который указывает в каких столбцах следует искать пропущенные значения"
      ]
    },
    {
      "cell_type": "code",
      "execution_count": 10,
      "metadata": {},
      "outputs": [
        {
          "name": "stdout",
          "output_type": "stream",
          "text": [
            "<class 'pandas.core.frame.DataFrame'>\n",
            "Index: 954 entries, 0 to 956\n",
            "Data columns (total 6 columns):\n",
            " #   Column         Non-Null Count  Dtype \n",
            "---  ------         --------------  ----- \n",
            " 0   User_Id        954 non-null    object\n",
            " 1   Region         954 non-null    object\n",
            " 2   Device         954 non-null    object\n",
            " 3   Channel        954 non-null    object\n",
            " 4   Session_Start  954 non-null    object\n",
            " 5   Session_End    954 non-null    object\n",
            "dtypes: object(6)\n",
            "memory usage: 52.2+ KB\n"
          ]
        }
      ],
      "source": [
        "df=df.dropna(subset=['Region', 'Device', 'Session_Start', 'Session_End'])\n",
        "df.info()"
      ]
    },
    {
      "cell_type": "markdown",
      "metadata": {
        "id": "kkyrXXHikEXk"
      },
      "source": [
        "### 4. Проверка дубликатов"
      ]
    },
    {
      "cell_type": "markdown",
      "metadata": {
        "id": "ImqHvr3okIQ6"
      },
      "source": [
        "#### Проверка явных дубликатов"
      ]
    },
    {
      "cell_type": "markdown",
      "metadata": {},
      "source": [
        "Далее используется метод duplicated, который считает дубликатами те строки, которые полностью повторяют уже встречавшиеся. Сначала выводится список всех дубликатов"
      ]
    },
    {
      "cell_type": "code",
      "execution_count": 11,
      "metadata": {
        "id": "qu1oh-e5lDZ1"
      },
      "outputs": [
        {
          "data": {
            "text/html": [
              "<div>\n",
              "<style scoped>\n",
              "    .dataframe tbody tr th:only-of-type {\n",
              "        vertical-align: middle;\n",
              "    }\n",
              "\n",
              "    .dataframe tbody tr th {\n",
              "        vertical-align: top;\n",
              "    }\n",
              "\n",
              "    .dataframe thead th {\n",
              "        text-align: right;\n",
              "    }\n",
              "</style>\n",
              "<table border=\"1\" class=\"dataframe\">\n",
              "  <thead>\n",
              "    <tr style=\"text-align: right;\">\n",
              "      <th></th>\n",
              "      <th>User_Id</th>\n",
              "      <th>Region</th>\n",
              "      <th>Device</th>\n",
              "      <th>Channel</th>\n",
              "      <th>Session_Start</th>\n",
              "      <th>Session_End</th>\n",
              "    </tr>\n",
              "  </thead>\n",
              "  <tbody>\n",
              "    <tr>\n",
              "      <th>480</th>\n",
              "      <td>1,79085E+11</td>\n",
              "      <td>United States</td>\n",
              "      <td>Mac</td>\n",
              "      <td>organic</td>\n",
              "      <td>01.05.2019 7:27</td>\n",
              "      <td>01.05.2019 7:49</td>\n",
              "    </tr>\n",
              "    <tr>\n",
              "      <th>481</th>\n",
              "      <td>1,79085E+11</td>\n",
              "      <td>United States</td>\n",
              "      <td>Mac</td>\n",
              "      <td>organic</td>\n",
              "      <td>01.05.2019 7:27</td>\n",
              "      <td>01.05.2019 7:49</td>\n",
              "    </tr>\n",
              "  </tbody>\n",
              "</table>\n",
              "</div>"
            ],
            "text/plain": [
              "         User_Id         Region Device  Channel    Session_Start  \\\n",
              "480  1,79085E+11  United States    Mac  organic  01.05.2019 7:27   \n",
              "481  1,79085E+11  United States    Mac  organic  01.05.2019 7:27   \n",
              "\n",
              "         Session_End  \n",
              "480  01.05.2019 7:49  \n",
              "481  01.05.2019 7:49  "
            ]
          },
          "execution_count": 11,
          "metadata": {},
          "output_type": "execute_result"
        }
      ],
      "source": [
        "df[df.duplicated()]"
      ]
    },
    {
      "cell_type": "markdown",
      "metadata": {},
      "source": [
        "Всего найдено 2 дубликата для их удаления используется метод drop_duplicates, так как этот метод удаляет строки с индексами, то следует применить метод reset_index, который обновит индексацию, параметр drop=True означает, что старый индекс не будет сохранен как столбец в новом датафрейме."
      ]
    },
    {
      "cell_type": "code",
      "execution_count": 12,
      "metadata": {
        "id": "ntArgvChkK26"
      },
      "outputs": [],
      "source": [
        "df = df.drop_duplicates().reset_index(drop=True)"
      ]
    },
    {
      "cell_type": "markdown",
      "metadata": {
        "id": "VeHTMcOmkLSw"
      },
      "source": [
        "#### Проверка неявных дубликатов"
      ]
    },
    {
      "cell_type": "markdown",
      "metadata": {},
      "source": [
        "Для поиска неявных дубликатов применятся метод unique, который выводит уникальные значения. Чтобы вывести уникальные значения из всех столбцов используется цикл, чтобы пройти по столбцам Region, Device и Channel"
      ]
    },
    {
      "cell_type": "code",
      "execution_count": 13,
      "metadata": {
        "id": "-uOPKHlVlGo8"
      },
      "outputs": [
        {
          "name": "stdout",
          "output_type": "stream",
          "text": [
            "Region : ['United States' 'USA'] \n",
            "\n",
            "Device : ['iPhone' 'Mac' 'Android' 'PC' 'MAC' 'IPHONE'] \n",
            "\n",
            "Channel : ['organic' 'TipTop' 'FaceBoom' 'MediaTornado'] \n",
            "\n"
          ]
        }
      ],
      "source": [
        "check=['Region', 'Device', 'Channel']\n",
        "for x in check:\n",
        "    print(x, ':', df[x].unique(), '\\n')"
      ]
    },
    {
      "cell_type": "code",
      "execution_count": 14,
      "metadata": {
        "id": "89tMFEQ2k_M7"
      },
      "outputs": [],
      "source": [
        "df['Region'] = df['Region'].replace('USA', 'United States')\n",
        "df['Device'] = df['Device'].replace('MAC', 'Mac')\n",
        "df['Device'] = df['Device'].replace('IPHONE', 'iPhone')\n",
        "df['Channel'] = df['Channel'].replace('organic', 'Organic')"
      ]
    },
    {
      "cell_type": "markdown",
      "metadata": {},
      "source": [
        "Из полученных данных было обнаружено, что в столбах есть неправильное написание слов. Чтобы исправить неправильные значения используется метод replace"
      ]
    },
    {
      "cell_type": "markdown",
      "metadata": {
        "id": "md9GhfYMlbi7"
      },
      "source": [
        "### 5. Провека типов данных"
      ]
    },
    {
      "cell_type": "markdown",
      "metadata": {},
      "source": [
        "Чтобы снова убедиться какие типы данных указаны в таблице, была написана команда df.info"
      ]
    },
    {
      "cell_type": "code",
      "execution_count": 15,
      "metadata": {
        "id": "lXTroENaluCW"
      },
      "outputs": [
        {
          "name": "stdout",
          "output_type": "stream",
          "text": [
            "<class 'pandas.core.frame.DataFrame'>\n",
            "RangeIndex: 952 entries, 0 to 951\n",
            "Data columns (total 6 columns):\n",
            " #   Column         Non-Null Count  Dtype \n",
            "---  ------         --------------  ----- \n",
            " 0   User_Id        952 non-null    object\n",
            " 1   Region         952 non-null    object\n",
            " 2   Device         952 non-null    object\n",
            " 3   Channel        952 non-null    object\n",
            " 4   Session_Start  952 non-null    object\n",
            " 5   Session_End    952 non-null    object\n",
            "dtypes: object(6)\n",
            "memory usage: 44.8+ KB\n"
          ]
        }
      ],
      "source": [
        "df.info()\n"
      ]
    },
    {
      "cell_type": "code",
      "execution_count": 16,
      "metadata": {
        "id": "WXhXgu29lop3"
      },
      "outputs": [
        {
          "name": "stdout",
          "output_type": "stream",
          "text": [
            "<class 'pandas.core.frame.DataFrame'>\n",
            "RangeIndex: 952 entries, 0 to 951\n",
            "Data columns (total 6 columns):\n",
            " #   Column         Non-Null Count  Dtype         \n",
            "---  ------         --------------  -----         \n",
            " 0   User_Id        952 non-null    object        \n",
            " 1   Region         952 non-null    object        \n",
            " 2   Device         952 non-null    object        \n",
            " 3   Channel        952 non-null    object        \n",
            " 4   Session_Start  952 non-null    datetime64[ns]\n",
            " 5   Session_End    952 non-null    datetime64[ns]\n",
            "dtypes: datetime64[ns](2), object(4)\n",
            "memory usage: 44.8+ KB\n"
          ]
        }
      ],
      "source": [
        "df['Session_Start'] = pd.to_datetime(df['Session_Start'], format='%d.%m.%Y %H:%M')\n",
        "df['Session_End'] = pd.to_datetime(df['Session_End'], format='%d.%m.%Y %H:%M')\n",
        "df.info()\n"
      ]
    },
    {
      "cell_type": "markdown",
      "metadata": {},
      "source": [
        "Session_Start Session_End имеют тип данных object, для преобразования к типу данных datetime используется метод to_datetime(), с помощью аргумента format был задан формат даты"
      ]
    },
    {
      "cell_type": "markdown",
      "metadata": {
        "id": "lzr0SgqlnmHy"
      },
      "source": [
        "### 6. Группировка данных"
      ]
    },
    {
      "cell_type": "markdown",
      "metadata": {
        "id": "QG_dbwzfmZoS"
      },
      "source": [
        "#### Задание 1"
      ]
    },
    {
      "cell_type": "markdown",
      "metadata": {
        "id": "CyCKTB4DmciW"
      },
      "source": [
        "*`Группировка - region и количество устройств (device ).`*"
      ]
    },
    {
      "cell_type": "markdown",
      "metadata": {},
      "source": [
        "С помощью метода groupby() проведена группировка: столбец Region по столбцу Device, подсчет осуществляется по столбцу User_Id"
      ]
    },
    {
      "cell_type": "code",
      "execution_count": 17,
      "metadata": {
        "id": "tp8Bl1gumYlI"
      },
      "outputs": [
        {
          "data": {
            "text/plain": [
              "Region         Device \n",
              "United States  Android    185\n",
              "               Mac        242\n",
              "               PC         103\n",
              "               iPhone     422\n",
              "Name: User_Id, dtype: int64"
            ]
          },
          "execution_count": 17,
          "metadata": {},
          "output_type": "execute_result"
        }
      ],
      "source": [
        "df.groupby(['Region', \"Device\"])[\"User_Id\"].count()"
      ]
    },
    {
      "cell_type": "markdown",
      "metadata": {
        "id": "jLmhNuq0mms3"
      },
      "source": [
        "**`Благодаря данной группировке можно заметить, что все пользователи находятся в США, а также какими устройства для входа пользовались чаще.`**"
      ]
    },
    {
      "cell_type": "markdown",
      "metadata": {
        "id": "j0isGCzEne7a"
      },
      "source": [
        "#### Задание 2"
      ]
    },
    {
      "cell_type": "markdown",
      "metadata": {
        "id": "kE2vLBWbne7a"
      },
      "source": [
        "*`Группировка - device и количество рекламных источников каждого\n",
        "типа (channel)`*"
      ]
    },
    {
      "cell_type": "markdown",
      "metadata": {},
      "source": [
        "Затем создается новый датафрейм, в котором осуществляется группировка: столбец Region по столбцу Device, подсчет осуществляется по столбцу User_ID, который с сортируется с использованием метода sort_values, ascending = False значит, что сортировка будет по убыванию. С помощью reset_index сбрасывается индекс и создается столбец с подсчетом значений переименовывается в count"
      ]
    },
    {
      "cell_type": "code",
      "execution_count": 18,
      "metadata": {
        "id": "ttn78Zaene7a"
      },
      "outputs": [
        {
          "data": {
            "text/html": [
              "<div>\n",
              "<style scoped>\n",
              "    .dataframe tbody tr th:only-of-type {\n",
              "        vertical-align: middle;\n",
              "    }\n",
              "\n",
              "    .dataframe tbody tr th {\n",
              "        vertical-align: top;\n",
              "    }\n",
              "\n",
              "    .dataframe thead th {\n",
              "        text-align: right;\n",
              "    }\n",
              "</style>\n",
              "<table border=\"1\" class=\"dataframe\">\n",
              "  <thead>\n",
              "    <tr style=\"text-align: right;\">\n",
              "      <th></th>\n",
              "      <th>Device</th>\n",
              "      <th>Channel</th>\n",
              "      <th>Count</th>\n",
              "    </tr>\n",
              "  </thead>\n",
              "  <tbody>\n",
              "    <tr>\n",
              "      <th>0</th>\n",
              "      <td>iPhone</td>\n",
              "      <td>Organic</td>\n",
              "      <td>249</td>\n",
              "    </tr>\n",
              "    <tr>\n",
              "      <th>1</th>\n",
              "      <td>Mac</td>\n",
              "      <td>Organic</td>\n",
              "      <td>172</td>\n",
              "    </tr>\n",
              "    <tr>\n",
              "      <th>2</th>\n",
              "      <td>Android</td>\n",
              "      <td>Organic</td>\n",
              "      <td>115</td>\n",
              "    </tr>\n",
              "    <tr>\n",
              "      <th>3</th>\n",
              "      <td>iPhone</td>\n",
              "      <td>TipTop</td>\n",
              "      <td>78</td>\n",
              "    </tr>\n",
              "    <tr>\n",
              "      <th>4</th>\n",
              "      <td>PC</td>\n",
              "      <td>Organic</td>\n",
              "      <td>72</td>\n",
              "    </tr>\n",
              "    <tr>\n",
              "      <th>5</th>\n",
              "      <td>iPhone</td>\n",
              "      <td>FaceBoom</td>\n",
              "      <td>65</td>\n",
              "    </tr>\n",
              "    <tr>\n",
              "      <th>6</th>\n",
              "      <td>Mac</td>\n",
              "      <td>FaceBoom</td>\n",
              "      <td>36</td>\n",
              "    </tr>\n",
              "    <tr>\n",
              "      <th>7</th>\n",
              "      <td>Android</td>\n",
              "      <td>FaceBoom</td>\n",
              "      <td>33</td>\n",
              "    </tr>\n",
              "    <tr>\n",
              "      <th>8</th>\n",
              "      <td>iPhone</td>\n",
              "      <td>MediaTornado</td>\n",
              "      <td>30</td>\n",
              "    </tr>\n",
              "    <tr>\n",
              "      <th>9</th>\n",
              "      <td>Android</td>\n",
              "      <td>TipTop</td>\n",
              "      <td>26</td>\n",
              "    </tr>\n",
              "    <tr>\n",
              "      <th>10</th>\n",
              "      <td>Mac</td>\n",
              "      <td>TipTop</td>\n",
              "      <td>24</td>\n",
              "    </tr>\n",
              "    <tr>\n",
              "      <th>11</th>\n",
              "      <td>PC</td>\n",
              "      <td>FaceBoom</td>\n",
              "      <td>15</td>\n",
              "    </tr>\n",
              "    <tr>\n",
              "      <th>12</th>\n",
              "      <td>PC</td>\n",
              "      <td>TipTop</td>\n",
              "      <td>14</td>\n",
              "    </tr>\n",
              "    <tr>\n",
              "      <th>13</th>\n",
              "      <td>Android</td>\n",
              "      <td>MediaTornado</td>\n",
              "      <td>11</td>\n",
              "    </tr>\n",
              "    <tr>\n",
              "      <th>14</th>\n",
              "      <td>Mac</td>\n",
              "      <td>MediaTornado</td>\n",
              "      <td>10</td>\n",
              "    </tr>\n",
              "    <tr>\n",
              "      <th>15</th>\n",
              "      <td>PC</td>\n",
              "      <td>MediaTornado</td>\n",
              "      <td>2</td>\n",
              "    </tr>\n",
              "  </tbody>\n",
              "</table>\n",
              "</div>"
            ],
            "text/plain": [
              "     Device       Channel  Count\n",
              "0    iPhone       Organic    249\n",
              "1       Mac       Organic    172\n",
              "2   Android       Organic    115\n",
              "3    iPhone        TipTop     78\n",
              "4        PC       Organic     72\n",
              "5    iPhone      FaceBoom     65\n",
              "6       Mac      FaceBoom     36\n",
              "7   Android      FaceBoom     33\n",
              "8    iPhone  MediaTornado     30\n",
              "9   Android        TipTop     26\n",
              "10      Mac        TipTop     24\n",
              "11       PC      FaceBoom     15\n",
              "12       PC        TipTop     14\n",
              "13  Android  MediaTornado     11\n",
              "14      Mac  MediaTornado     10\n",
              "15       PC  MediaTornado      2"
            ]
          },
          "execution_count": 18,
          "metadata": {},
          "output_type": "execute_result"
        }
      ],
      "source": [
        "group_df=df.groupby(['Device', 'Channel'])['User_Id'].count().sort_values(ascending=False).reset_index()\n",
        "group_df=group_df.rename(columns={'User_Id':'Count'})\n",
        "group_df"
      ]
    },
    {
      "cell_type": "markdown",
      "metadata": {
        "id": "HCyyeAu6ne7a"
      },
      "source": [
        "**`По данным группировки можно сказать, что поток пользователей происходил с телефонов Apple, а также наибольшей популярностью пользуется источник Organic. Самым слабым оказался вход с компьютера с источником MediaTornado.`**"
      ]
    },
    {
      "cell_type": "markdown",
      "metadata": {
        "id": "_3fHGp64nhUJ"
      },
      "source": [
        "#### Задание 3"
      ]
    },
    {
      "cell_type": "markdown",
      "metadata": {
        "id": "_Bc4ehyKnhUJ"
      },
      "source": [
        "*`Сводная таблица (pivot_table) - количество пользователей для каждого\n",
        "канала (device)`*"
      ]
    },
    {
      "cell_type": "markdown",
      "metadata": {},
      "source": [
        "Далее описана команда, где index группирует данные по каналам привлечения, values использует идентификаторы пользователей для анализа, aggfunc='count' подсчитывает количество пользователей в каждой группе,\n",
        "sort_values сортирует результат по столбцу с количеством пользователей, а\n",
        "ascending=False - по убыванию"
      ]
    },
    {
      "cell_type": "code",
      "execution_count": 19,
      "metadata": {
        "id": "siDovPvQnhUJ"
      },
      "outputs": [
        {
          "data": {
            "text/html": [
              "<div>\n",
              "<style scoped>\n",
              "    .dataframe tbody tr th:only-of-type {\n",
              "        vertical-align: middle;\n",
              "    }\n",
              "\n",
              "    .dataframe tbody tr th {\n",
              "        vertical-align: top;\n",
              "    }\n",
              "\n",
              "    .dataframe thead th {\n",
              "        text-align: right;\n",
              "    }\n",
              "</style>\n",
              "<table border=\"1\" class=\"dataframe\">\n",
              "  <thead>\n",
              "    <tr style=\"text-align: right;\">\n",
              "      <th></th>\n",
              "      <th>User_Id</th>\n",
              "    </tr>\n",
              "    <tr>\n",
              "      <th>Channel</th>\n",
              "      <th></th>\n",
              "    </tr>\n",
              "  </thead>\n",
              "  <tbody>\n",
              "    <tr>\n",
              "      <th>Organic</th>\n",
              "      <td>608</td>\n",
              "    </tr>\n",
              "    <tr>\n",
              "      <th>FaceBoom</th>\n",
              "      <td>149</td>\n",
              "    </tr>\n",
              "    <tr>\n",
              "      <th>TipTop</th>\n",
              "      <td>142</td>\n",
              "    </tr>\n",
              "    <tr>\n",
              "      <th>MediaTornado</th>\n",
              "      <td>53</td>\n",
              "    </tr>\n",
              "  </tbody>\n",
              "</table>\n",
              "</div>"
            ],
            "text/plain": [
              "              User_Id\n",
              "Channel              \n",
              "Organic           608\n",
              "FaceBoom          149\n",
              "TipTop            142\n",
              "MediaTornado       53"
            ]
          },
          "execution_count": 19,
          "metadata": {},
          "output_type": "execute_result"
        }
      ],
      "source": [
        "pt=df.pivot_table(index='Channel', values='User_Id', aggfunc='count').sort_values(by='User_Id', ascending=False)\n",
        "pt"
      ]
    },
    {
      "cell_type": "markdown",
      "metadata": {
        "id": "1-vw8iyUnhUK"
      },
      "source": [
        "**`Из результата данной сводной таблицы можно увидеть, что большинство пользователей выбрали источник Organic, MediaTornado самый непопулярный истоник из всего списка.`**"
      ]
    },
    {
      "cell_type": "markdown",
      "metadata": {
        "id": "FOlw74xCniNo"
      },
      "source": [
        "#### Задание 4"
      ]
    },
    {
      "cell_type": "markdown",
      "metadata": {
        "id": "4tvYwT25niNq"
      },
      "source": [
        "*`Сводная таблица (pivot_table) - количество пользователей для каждого\n",
        "устройства (device) - строки и канала - столбцы.`*"
      ]
    },
    {
      "cell_type": "markdown",
      "metadata": {},
      "source": [
        "Затем создается сводная таблица- количество пользователей для каждого\n",
        "устройства. Index указывает, что уникальные значения из столбца 'Device' станут строками итоговой таблицы. Columns указывает, что уникальные значения из столбца 'Channel' станут столбцами итоговой таблицы. Аggfunc='count' означает \"посчитать количество\", функция посчитает количество User_Id"
      ]
    },
    {
      "cell_type": "code",
      "execution_count": 20,
      "metadata": {
        "id": "TfJ719g6niNq"
      },
      "outputs": [
        {
          "data": {
            "text/html": [
              "<div>\n",
              "<style scoped>\n",
              "    .dataframe tbody tr th:only-of-type {\n",
              "        vertical-align: middle;\n",
              "    }\n",
              "\n",
              "    .dataframe tbody tr th {\n",
              "        vertical-align: top;\n",
              "    }\n",
              "\n",
              "    .dataframe thead th {\n",
              "        text-align: right;\n",
              "    }\n",
              "</style>\n",
              "<table border=\"1\" class=\"dataframe\">\n",
              "  <thead>\n",
              "    <tr style=\"text-align: right;\">\n",
              "      <th>Channel</th>\n",
              "      <th>FaceBoom</th>\n",
              "      <th>MediaTornado</th>\n",
              "      <th>Organic</th>\n",
              "      <th>TipTop</th>\n",
              "    </tr>\n",
              "    <tr>\n",
              "      <th>Device</th>\n",
              "      <th></th>\n",
              "      <th></th>\n",
              "      <th></th>\n",
              "      <th></th>\n",
              "    </tr>\n",
              "  </thead>\n",
              "  <tbody>\n",
              "    <tr>\n",
              "      <th>Android</th>\n",
              "      <td>33</td>\n",
              "      <td>11</td>\n",
              "      <td>115</td>\n",
              "      <td>26</td>\n",
              "    </tr>\n",
              "    <tr>\n",
              "      <th>Mac</th>\n",
              "      <td>36</td>\n",
              "      <td>10</td>\n",
              "      <td>172</td>\n",
              "      <td>24</td>\n",
              "    </tr>\n",
              "    <tr>\n",
              "      <th>PC</th>\n",
              "      <td>15</td>\n",
              "      <td>2</td>\n",
              "      <td>72</td>\n",
              "      <td>14</td>\n",
              "    </tr>\n",
              "    <tr>\n",
              "      <th>iPhone</th>\n",
              "      <td>65</td>\n",
              "      <td>30</td>\n",
              "      <td>249</td>\n",
              "      <td>78</td>\n",
              "    </tr>\n",
              "  </tbody>\n",
              "</table>\n",
              "</div>"
            ],
            "text/plain": [
              "Channel  FaceBoom  MediaTornado  Organic  TipTop\n",
              "Device                                          \n",
              "Android        33            11      115      26\n",
              "Mac            36            10      172      24\n",
              "PC             15             2       72      14\n",
              "iPhone         65            30      249      78"
            ]
          },
          "execution_count": 20,
          "metadata": {},
          "output_type": "execute_result"
        }
      ],
      "source": [
        "pt2=df.pivot_table(index='Device', columns='Channel', values='User_Id', aggfunc='count').sort_values(by='Device')\n",
        "pt2\n"
      ]
    },
    {
      "cell_type": "markdown",
      "metadata": {
        "id": "yqJqvk5qniNr"
      },
      "source": [
        "**`Можно сделать вывод, что Organic - безусловно, основной канал привлечения пользователей для всех типов устройств. На его долю приходится значительно больше пользователей, чем на все остальные каналы вместе взятые. Особенно это заметно для iPhone (249 пользователей) и Mac (172 пользователя)`**"
      ]
    },
    {
      "cell_type": "markdown",
      "metadata": {
        "id": "TpnXb6gip3S8"
      },
      "source": [
        "### Вывод"
      ]
    },
    {
      "cell_type": "markdown",
      "metadata": {
        "id": "nqLa096jM1Z8"
      },
      "source": [
        "\n",
        "В ходе работы были проанализированы данные о посещениях пользователей (visits.csv) в разрезе устройств, каналов привлечения и географии. Датасет содержал информацию о 957 сессиях с атрибутами: идентификатор пользователя, регион, устройство, канал привлечения, время начала и окончания сессии. Были устранены пропуски в столбцах и удалено 3 строки, исправлены неявные дубликаты в категориальных данных, удалены 2 полных дубликата записей, преобразованы типы данных: даты сессий приведены к формату datetime, а также стандартизированы названия столбцов.\n",
        "Были получены выводы из анализа, что все пользователи из США, самое популярное устройство это iPhone, Organic стал самым доминирующим рекламным каналом.\n",
        "\n",
        "\n"
      ]
    },
    {
      "cell_type": "markdown",
      "metadata": {
        "id": "Sn3y7og_vjGG"
      },
      "source": [
        "### Дополнительное задание"
      ]
    },
    {
      "cell_type": "markdown",
      "metadata": {
        "id": "rR6WgHXYvlqD"
      },
      "source": [
        "6 \n",
        "Добавить столбец - “Длительность сессии” (расчетный). Создать столбец\n",
        "“Категория длительности” (с помощью категоризации). Выделить минимум 3\n",
        "категории (низкая, высокая, средняя), фильтрацию для уровня длительности\n",
        "выбрать самостоятельно, аргументировать выбор. Создать сводную таблицу:\n",
        "средняя и медианная длительность сессии по категории длительности и\n",
        "каналу. \n"
      ]
    },
    {
      "cell_type": "code",
      "execution_count": 23,
      "metadata": {
        "id": "wG5TGQpevlBq"
      },
      "outputs": [
        {
          "data": {
            "text/html": [
              "<div>\n",
              "<style scoped>\n",
              "    .dataframe tbody tr th:only-of-type {\n",
              "        vertical-align: middle;\n",
              "    }\n",
              "\n",
              "    .dataframe tbody tr th {\n",
              "        vertical-align: top;\n",
              "    }\n",
              "\n",
              "    .dataframe thead th {\n",
              "        text-align: right;\n",
              "    }\n",
              "</style>\n",
              "<table border=\"1\" class=\"dataframe\">\n",
              "  <thead>\n",
              "    <tr style=\"text-align: right;\">\n",
              "      <th></th>\n",
              "      <th>User_Id</th>\n",
              "      <th>Region</th>\n",
              "      <th>Device</th>\n",
              "      <th>Channel</th>\n",
              "      <th>Session_Start</th>\n",
              "      <th>Session_End</th>\n",
              "      <th>Session_Time</th>\n",
              "    </tr>\n",
              "  </thead>\n",
              "  <tbody>\n",
              "    <tr>\n",
              "      <th>0</th>\n",
              "      <td>9,81449E+11</td>\n",
              "      <td>United States</td>\n",
              "      <td>iPhone</td>\n",
              "      <td>Organic</td>\n",
              "      <td>2019-05-01 02:36:00</td>\n",
              "      <td>2019-05-01 02:45:00</td>\n",
              "      <td>9.0</td>\n",
              "    </tr>\n",
              "    <tr>\n",
              "      <th>1</th>\n",
              "      <td>2,78966E+11</td>\n",
              "      <td>United States</td>\n",
              "      <td>iPhone</td>\n",
              "      <td>Organic</td>\n",
              "      <td>2019-05-01 04:46:00</td>\n",
              "      <td>2019-05-01 04:47:00</td>\n",
              "      <td>1.0</td>\n",
              "    </tr>\n",
              "    <tr>\n",
              "      <th>2</th>\n",
              "      <td>5,90706E+11</td>\n",
              "      <td>United States</td>\n",
              "      <td>Mac</td>\n",
              "      <td>Organic</td>\n",
              "      <td>2019-05-01 14:09:00</td>\n",
              "      <td>2019-05-01 15:32:00</td>\n",
              "      <td>83.0</td>\n",
              "    </tr>\n",
              "    <tr>\n",
              "      <th>3</th>\n",
              "      <td>3,26434E+11</td>\n",
              "      <td>United States</td>\n",
              "      <td>Android</td>\n",
              "      <td>TipTop</td>\n",
              "      <td>2019-05-01 00:29:00</td>\n",
              "      <td>2019-05-01 00:54:00</td>\n",
              "      <td>25.0</td>\n",
              "    </tr>\n",
              "    <tr>\n",
              "      <th>4</th>\n",
              "      <td>3,49774E+11</td>\n",
              "      <td>United States</td>\n",
              "      <td>Mac</td>\n",
              "      <td>Organic</td>\n",
              "      <td>2019-05-01 03:33:00</td>\n",
              "      <td>2019-05-01 03:57:00</td>\n",
              "      <td>24.0</td>\n",
              "    </tr>\n",
              "    <tr>\n",
              "      <th>5</th>\n",
              "      <td>43958116050</td>\n",
              "      <td>United States</td>\n",
              "      <td>Android</td>\n",
              "      <td>Organic</td>\n",
              "      <td>2019-05-01 09:03:00</td>\n",
              "      <td>2019-05-01 10:08:00</td>\n",
              "      <td>65.0</td>\n",
              "    </tr>\n",
              "    <tr>\n",
              "      <th>6</th>\n",
              "      <td>1,85365E+11</td>\n",
              "      <td>United States</td>\n",
              "      <td>iPhone</td>\n",
              "      <td>Organic</td>\n",
              "      <td>2019-05-01 09:37:00</td>\n",
              "      <td>2019-05-01 10:00:00</td>\n",
              "      <td>23.0</td>\n",
              "    </tr>\n",
              "    <tr>\n",
              "      <th>7</th>\n",
              "      <td>1,00971E+11</td>\n",
              "      <td>United States</td>\n",
              "      <td>Mac</td>\n",
              "      <td>TipTop</td>\n",
              "      <td>2019-05-01 04:39:00</td>\n",
              "      <td>2019-05-01 04:57:00</td>\n",
              "      <td>18.0</td>\n",
              "    </tr>\n",
              "    <tr>\n",
              "      <th>8</th>\n",
              "      <td>3,70456E+11</td>\n",
              "      <td>United States</td>\n",
              "      <td>iPhone</td>\n",
              "      <td>Organic</td>\n",
              "      <td>2019-05-01 14:44:00</td>\n",
              "      <td>2019-05-01 15:41:00</td>\n",
              "      <td>57.0</td>\n",
              "    </tr>\n",
              "    <tr>\n",
              "      <th>9</th>\n",
              "      <td>1,41838E+11</td>\n",
              "      <td>United States</td>\n",
              "      <td>Mac</td>\n",
              "      <td>FaceBoom</td>\n",
              "      <td>2019-05-01 06:20:00</td>\n",
              "      <td>2019-05-01 06:54:00</td>\n",
              "      <td>34.0</td>\n",
              "    </tr>\n",
              "    <tr>\n",
              "      <th>10</th>\n",
              "      <td>9,24309E+11</td>\n",
              "      <td>United States</td>\n",
              "      <td>iPhone</td>\n",
              "      <td>Organic</td>\n",
              "      <td>2019-05-01 20:03:00</td>\n",
              "      <td>2019-05-01 20:19:00</td>\n",
              "      <td>16.0</td>\n",
              "    </tr>\n",
              "    <tr>\n",
              "      <th>11</th>\n",
              "      <td>7,74938E+11</td>\n",
              "      <td>United States</td>\n",
              "      <td>iPhone</td>\n",
              "      <td>MediaTornado</td>\n",
              "      <td>2019-05-01 14:01:00</td>\n",
              "      <td>2019-05-01 14:29:00</td>\n",
              "      <td>28.0</td>\n",
              "    </tr>\n",
              "    <tr>\n",
              "      <th>12</th>\n",
              "      <td>2,44879E+11</td>\n",
              "      <td>United States</td>\n",
              "      <td>iPhone</td>\n",
              "      <td>MediaTornado</td>\n",
              "      <td>2019-05-01 01:59:00</td>\n",
              "      <td>2019-05-01 02:21:00</td>\n",
              "      <td>22.0</td>\n",
              "    </tr>\n",
              "    <tr>\n",
              "      <th>13</th>\n",
              "      <td>1,57877E+11</td>\n",
              "      <td>United States</td>\n",
              "      <td>Mac</td>\n",
              "      <td>Organic</td>\n",
              "      <td>2019-05-01 10:25:00</td>\n",
              "      <td>2019-05-01 10:35:00</td>\n",
              "      <td>10.0</td>\n",
              "    </tr>\n",
              "    <tr>\n",
              "      <th>14</th>\n",
              "      <td>5,24629E+11</td>\n",
              "      <td>United States</td>\n",
              "      <td>Mac</td>\n",
              "      <td>Organic</td>\n",
              "      <td>2019-05-01 17:06:00</td>\n",
              "      <td>2019-05-01 18:05:00</td>\n",
              "      <td>59.0</td>\n",
              "    </tr>\n",
              "    <tr>\n",
              "      <th>15</th>\n",
              "      <td>1,36227E+11</td>\n",
              "      <td>United States</td>\n",
              "      <td>PC</td>\n",
              "      <td>Organic</td>\n",
              "      <td>2019-05-01 19:34:00</td>\n",
              "      <td>2019-05-01 19:39:00</td>\n",
              "      <td>5.0</td>\n",
              "    </tr>\n",
              "    <tr>\n",
              "      <th>16</th>\n",
              "      <td>6,84979E+11</td>\n",
              "      <td>United States</td>\n",
              "      <td>iPhone</td>\n",
              "      <td>TipTop</td>\n",
              "      <td>2019-05-01 01:51:00</td>\n",
              "      <td>2019-05-01 02:12:00</td>\n",
              "      <td>21.0</td>\n",
              "    </tr>\n",
              "    <tr>\n",
              "      <th>17</th>\n",
              "      <td>9,05776E+11</td>\n",
              "      <td>United States</td>\n",
              "      <td>iPhone</td>\n",
              "      <td>Organic</td>\n",
              "      <td>2019-05-01 14:26:00</td>\n",
              "      <td>2019-05-01 14:35:00</td>\n",
              "      <td>9.0</td>\n",
              "    </tr>\n",
              "    <tr>\n",
              "      <th>18</th>\n",
              "      <td>15174034813</td>\n",
              "      <td>United States</td>\n",
              "      <td>iPhone</td>\n",
              "      <td>FaceBoom</td>\n",
              "      <td>2019-05-01 15:34:00</td>\n",
              "      <td>2019-05-01 15:56:00</td>\n",
              "      <td>22.0</td>\n",
              "    </tr>\n",
              "    <tr>\n",
              "      <th>19</th>\n",
              "      <td>1,88246E+11</td>\n",
              "      <td>United States</td>\n",
              "      <td>Android</td>\n",
              "      <td>FaceBoom</td>\n",
              "      <td>2019-05-01 23:09:00</td>\n",
              "      <td>2019-05-01 23:21:00</td>\n",
              "      <td>12.0</td>\n",
              "    </tr>\n",
              "  </tbody>\n",
              "</table>\n",
              "</div>"
            ],
            "text/plain": [
              "        User_Id         Region   Device       Channel       Session_Start  \\\n",
              "0   9,81449E+11  United States   iPhone       Organic 2019-05-01 02:36:00   \n",
              "1   2,78966E+11  United States   iPhone       Organic 2019-05-01 04:46:00   \n",
              "2   5,90706E+11  United States      Mac       Organic 2019-05-01 14:09:00   \n",
              "3   3,26434E+11  United States  Android        TipTop 2019-05-01 00:29:00   \n",
              "4   3,49774E+11  United States      Mac       Organic 2019-05-01 03:33:00   \n",
              "5   43958116050  United States  Android       Organic 2019-05-01 09:03:00   \n",
              "6   1,85365E+11  United States   iPhone       Organic 2019-05-01 09:37:00   \n",
              "7   1,00971E+11  United States      Mac        TipTop 2019-05-01 04:39:00   \n",
              "8   3,70456E+11  United States   iPhone       Organic 2019-05-01 14:44:00   \n",
              "9   1,41838E+11  United States      Mac      FaceBoom 2019-05-01 06:20:00   \n",
              "10  9,24309E+11  United States   iPhone       Organic 2019-05-01 20:03:00   \n",
              "11  7,74938E+11  United States   iPhone  MediaTornado 2019-05-01 14:01:00   \n",
              "12  2,44879E+11  United States   iPhone  MediaTornado 2019-05-01 01:59:00   \n",
              "13  1,57877E+11  United States      Mac       Organic 2019-05-01 10:25:00   \n",
              "14  5,24629E+11  United States      Mac       Organic 2019-05-01 17:06:00   \n",
              "15  1,36227E+11  United States       PC       Organic 2019-05-01 19:34:00   \n",
              "16  6,84979E+11  United States   iPhone        TipTop 2019-05-01 01:51:00   \n",
              "17  9,05776E+11  United States   iPhone       Organic 2019-05-01 14:26:00   \n",
              "18  15174034813  United States   iPhone      FaceBoom 2019-05-01 15:34:00   \n",
              "19  1,88246E+11  United States  Android      FaceBoom 2019-05-01 23:09:00   \n",
              "\n",
              "           Session_End  Session_Time  \n",
              "0  2019-05-01 02:45:00           9.0  \n",
              "1  2019-05-01 04:47:00           1.0  \n",
              "2  2019-05-01 15:32:00          83.0  \n",
              "3  2019-05-01 00:54:00          25.0  \n",
              "4  2019-05-01 03:57:00          24.0  \n",
              "5  2019-05-01 10:08:00          65.0  \n",
              "6  2019-05-01 10:00:00          23.0  \n",
              "7  2019-05-01 04:57:00          18.0  \n",
              "8  2019-05-01 15:41:00          57.0  \n",
              "9  2019-05-01 06:54:00          34.0  \n",
              "10 2019-05-01 20:19:00          16.0  \n",
              "11 2019-05-01 14:29:00          28.0  \n",
              "12 2019-05-01 02:21:00          22.0  \n",
              "13 2019-05-01 10:35:00          10.0  \n",
              "14 2019-05-01 18:05:00          59.0  \n",
              "15 2019-05-01 19:39:00           5.0  \n",
              "16 2019-05-01 02:12:00          21.0  \n",
              "17 2019-05-01 14:35:00           9.0  \n",
              "18 2019-05-01 15:56:00          22.0  \n",
              "19 2019-05-01 23:21:00          12.0  "
            ]
          },
          "execution_count": 23,
          "metadata": {},
          "output_type": "execute_result"
        }
      ],
      "source": [
        "df['Session_Time'] = (df['Session_End'] - df['Session_Start']).dt.total_seconds() / 60  \n",
        "df.head(20)"
      ]
    },
    {
      "cell_type": "markdown",
      "metadata": {
        "id": "y-qpTuhTvon3"
      },
      "source": [
        "Создаем столбец длительность сессии, которая расчитывается как разность между концом и началом сессии. Время полученное в секундах делим на 60, чтобы получить минуты."
      ]
    },
    {
      "cell_type": "code",
      "execution_count": 24,
      "metadata": {},
      "outputs": [],
      "source": [
        "bins = [0, 5, 20, float('inf')]\n",
        "labels = ['Low', 'Medium', 'High']\n",
        "df['Category'] = pd.cut(df['Session_Time'], bins=bins, labels=labels)"
      ]
    },
    {
      "cell_type": "markdown",
      "metadata": {},
      "source": [
        "Создаем категории по длительности сессии, где 0-5 низкая, 5-20 средняя и от 20 до бесконечности высокая. Используем pd.cut, которая разбивает числовые значения на интервалы, присваивает каждой строке соответствующую категорию, создает категориальный столбец с заданными метками."
      ]
    },
    {
      "cell_type": "code",
      "execution_count": null,
      "metadata": {},
      "outputs": [
        {
          "name": "stderr",
          "output_type": "stream",
          "text": [
            "C:\\Users\\User\\AppData\\Local\\Temp\\ipykernel_19440\\2546850410.py:1: FutureWarning: The default value of observed=False is deprecated and will change to observed=True in a future version of pandas. Specify observed=False to silence this warning and retain the current behavior\n",
            "  pivot_table = df.pivot_table(index='Category', columns='Channel', values='Session_Time', aggfunc=['mean', 'median']).round(2)\n",
            "C:\\Users\\User\\AppData\\Local\\Temp\\ipykernel_19440\\2546850410.py:1: FutureWarning: The default value of observed=False is deprecated and will change to observed=True in a future version of pandas. Specify observed=False to silence this warning and retain the current behavior\n",
            "  pivot_table = df.pivot_table(index='Category', columns='Channel', values='Session_Time', aggfunc=['mean', 'median']).round(2)\n"
          ]
        },
        {
          "data": {
            "text/html": [
              "<div>\n",
              "<style scoped>\n",
              "    .dataframe tbody tr th:only-of-type {\n",
              "        vertical-align: middle;\n",
              "    }\n",
              "\n",
              "    .dataframe tbody tr th {\n",
              "        vertical-align: top;\n",
              "    }\n",
              "\n",
              "    .dataframe thead tr th {\n",
              "        text-align: left;\n",
              "    }\n",
              "\n",
              "    .dataframe thead tr:last-of-type th {\n",
              "        text-align: right;\n",
              "    }\n",
              "</style>\n",
              "<table border=\"1\" class=\"dataframe\">\n",
              "  <thead>\n",
              "    <tr>\n",
              "      <th></th>\n",
              "      <th colspan=\"4\" halign=\"left\">mean</th>\n",
              "      <th colspan=\"4\" halign=\"left\">median</th>\n",
              "    </tr>\n",
              "    <tr>\n",
              "      <th>Channel</th>\n",
              "      <th>FaceBoom</th>\n",
              "      <th>MediaTornado</th>\n",
              "      <th>Organic</th>\n",
              "      <th>TipTop</th>\n",
              "      <th>FaceBoom</th>\n",
              "      <th>MediaTornado</th>\n",
              "      <th>Organic</th>\n",
              "      <th>TipTop</th>\n",
              "    </tr>\n",
              "    <tr>\n",
              "      <th>Category</th>\n",
              "      <th></th>\n",
              "      <th></th>\n",
              "      <th></th>\n",
              "      <th></th>\n",
              "      <th></th>\n",
              "      <th></th>\n",
              "      <th></th>\n",
              "      <th></th>\n",
              "    </tr>\n",
              "  </thead>\n",
              "  <tbody>\n",
              "    <tr>\n",
              "      <th>Low</th>\n",
              "      <td>2.95</td>\n",
              "      <td>3.23</td>\n",
              "      <td>2.81</td>\n",
              "      <td>2.46</td>\n",
              "      <td>3.0</td>\n",
              "      <td>3.0</td>\n",
              "      <td>3.0</td>\n",
              "      <td>2.5</td>\n",
              "    </tr>\n",
              "    <tr>\n",
              "      <th>Medium</th>\n",
              "      <td>12.91</td>\n",
              "      <td>10.62</td>\n",
              "      <td>12.71</td>\n",
              "      <td>12.37</td>\n",
              "      <td>13.0</td>\n",
              "      <td>10.0</td>\n",
              "      <td>12.0</td>\n",
              "      <td>12.0</td>\n",
              "    </tr>\n",
              "    <tr>\n",
              "      <th>High</th>\n",
              "      <td>46.97</td>\n",
              "      <td>37.67</td>\n",
              "      <td>50.29</td>\n",
              "      <td>45.11</td>\n",
              "      <td>41.0</td>\n",
              "      <td>36.0</td>\n",
              "      <td>42.5</td>\n",
              "      <td>40.0</td>\n",
              "    </tr>\n",
              "  </tbody>\n",
              "</table>\n",
              "</div>"
            ],
            "text/plain": [
              "             mean                               median                       \\\n",
              "Channel  FaceBoom MediaTornado Organic TipTop FaceBoom MediaTornado Organic   \n",
              "Category                                                                      \n",
              "Low          2.95         3.23    2.81   2.46      3.0          3.0     3.0   \n",
              "Medium      12.91        10.62   12.71  12.37     13.0         10.0    12.0   \n",
              "High        46.97        37.67   50.29  45.11     41.0         36.0    42.5   \n",
              "\n",
              "                 \n",
              "Channel  TipTop  \n",
              "Category         \n",
              "Low         2.5  \n",
              "Medium     12.0  \n",
              "High       40.0  "
            ]
          },
          "execution_count": 26,
          "metadata": {},
          "output_type": "execute_result"
        }
      ],
      "source": [
        "pivot_table = df.pivot_table(index='Category', columns='Channel', values='Session_Time', aggfunc=['Mean', 'Median']).round(2)\n",
        "pivot_table"
      ]
    },
    {
      "cell_type": "markdown",
      "metadata": {},
      "source": [
        "Создаем сводную таблицу, где Index группирует данные по строкам, каждая строка отдельная категория длительности. Columns группирует так, что каждый столбец отдельный канал. Values анализирует именно длительность. aggfunc=['mean', 'median'], где mean и median это среднее и медиана. Round же округляет все числа до 2 знаков после запятой"
      ]
    },
    {
      "cell_type": "markdown",
      "metadata": {},
      "source": [
        "Большинство пользователей демонстрируют средний уровень вовлеченности, что свидетельствует о нормальном качестве трафика. Organic трафик - наиболее вовлеченные пользователи. MediaTornado - вероятно, показывает наименьшие значения длительности\n",
        "\n"
      ]
    }
  ],
  "metadata": {
    "colab": {
      "provenance": []
    },
    "kernelspec": {
      "display_name": "Python 3",
      "name": "python3"
    },
    "language_info": {
      "codemirror_mode": {
        "name": "ipython",
        "version": 3
      },
      "file_extension": ".py",
      "mimetype": "text/x-python",
      "name": "python",
      "nbconvert_exporter": "python",
      "pygments_lexer": "ipython3",
      "version": "3.12.6"
    }
  },
  "nbformat": 4,
  "nbformat_minor": 0
}
